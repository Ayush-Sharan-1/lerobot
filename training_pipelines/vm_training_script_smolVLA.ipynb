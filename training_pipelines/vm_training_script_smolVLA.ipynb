{
 "cells": [
  {
   "cell_type": "code",
   "execution_count": null,
   "id": "fd0cf0f3-8698-4d69-ae7e-77b6d15b60d4",
   "metadata": {},
   "outputs": [],
   "source": [
    "#run in the terminal\n",
    "# conda install ffmpeg=7.1.1 -c conda-forge -y"
   ]
  },
  {
   "cell_type": "code",
   "execution_count": null,
   "id": "1ff198dc-3fc0-4801-9933-6eec2f91fdec",
   "metadata": {},
   "outputs": [],
   "source": [
    "!git clone https://github.com/Ayush-Sharan-1/lerobot.git"
   ]
  },
  {
   "cell_type": "code",
   "execution_count": null,
   "id": "149b23ce-ff99-44bb-b711-2a69fbbf53c9",
   "metadata": {},
   "outputs": [],
   "source": [
    "import sys\n",
    "%cd lerobot\n",
    "!{sys.executable} -m pip install -e . --break-system-packages\n",
    "#pip install datasets==3.5.0 \n",
    "#rm -rf ~/.cache/huggingface/ "
   ]
  },
  {
   "cell_type": "code",
   "execution_count": null,
   "id": "e3fc9b68-ac18-463c-b686-a6c4d27bac57",
   "metadata": {},
   "outputs": [],
   "source": [
    "# Log in to Weights & Biases\n",
    "import wandb\n",
    "wandb.login()"
   ]
  },
  {
   "cell_type": "code",
   "execution_count": null,
   "id": "1022705f",
   "metadata": {},
   "outputs": [],
   "source": []
  },
  {
   "cell_type": "code",
   "execution_count": null,
   "id": "34eebd86",
   "metadata": {},
   "outputs": [],
   "source": [
    "!{sys.executable} -m pip install -e \".[smolvla]\" --break-system-packages"
   ]
  },
  {
   "cell_type": "code",
   "execution_count": null,
   "id": "817f1070-7b28-4ae7-a734-29e5b8178e00",
   "metadata": {},
   "outputs": [],
   "source": [
    "# Set your Hugging Face username\n",
    "HF_USER = \"Ayush-Sharan-1\"  # Replace with your username\n",
    "\n",
    "# Define your dataset and output paths\n",
    "DATASET_REPO_ID = \"Ayush-Sharan-1/TicTacToe_GP1\" # Replace with your actual dataset\n",
    "OUTPUT_DIR = \"/outputs/TicTacToe-smolVLA-all\""
   ]
  },
  {
   "cell_type": "code",
   "execution_count": null,
   "id": "30072814-ea07-4746-9b23-e5d465d77ac8",
   "metadata": {},
   "outputs": [],
   "source": [
    "# Verify dataset access\n",
    "from lerobot.common.datasets.lerobot_dataset import LeRobotDatasetMetadata\n",
    "try:\n",
    "    ds_meta = LeRobotDatasetMetadata(DATASET_REPO_ID)\n",
    "    print(f\"✅ Successfully accessed dataset: {DATASET_REPO_ID}\")\n",
    "    print(f\"Total episodes: {ds_meta.total_episodes}\")\n",
    "    print(f\"Total frames: {ds_meta.total_frames}\")\n",
    "    print(f\"Camera keys: {ds_meta.camera_keys}\")\n",
    "except Exception as e:\n",
    "    print(f\"❌ Error accessing dataset: {e}\")"
   ]
  },
  {
   "cell_type": "code",
   "execution_count": null,
   "id": "157a1224-0c0d-48da-8420-821fab9458b7",
   "metadata": {},
   "outputs": [],
   "source": [
    "!git checkout feature/act-lang-policy"
   ]
  },
  {
   "cell_type": "code",
   "execution_count": null,
   "id": "3a703022-b198-4e7f-ba23-dd7eb099fea9",
   "metadata": {},
   "outputs": [],
   "source": [
    "# Remove the existing directory\n",
    "# To be used when encountering the FileExists Error\n",
    "!rm -rf {OUTPUT_DIR}"
   ]
  },
  {
   "cell_type": "code",
   "execution_count": null,
   "id": "40ba4ec0-f786-453e-bb5b-3a7cde7fbb1a",
   "metadata": {},
   "outputs": [],
   "source": [
    "# Use subprocess instead of ! commands for better variable handling\n",
    "import subprocess"
   ]
  },
  {
   "cell_type": "code",
   "execution_count": null,
   "id": "5e61607f-6f50-4059-9222-d692d411a61c",
   "metadata": {},
   "outputs": [],
   "source": [
    "# Start training with WandB enabled\n",
    "# Construct the command as a list of arguments\n",
    "cmd = [\n",
    "    sys.executable, \"lerobot/scripts/train.py\",\n",
    "    \"--policy.path=lerobot/smolvla_base\",\n",
    "    f\"--dataset.repo_id={DATASET_REPO_ID}\",\n",
    "    f\"--output_dir={OUTPUT_DIR}\",\n",
    "    \"--job_name=TicTacToe-smolVLA-all\",\n",
    "    \"--policy.device=cuda\",\n",
    "    \"--save_freq=5000\",\n",
    "    \"--log_freq=100\",\n",
    "    \"--wandb.enable=true\",\n",
    "    \"--wandb.disable_artifact=true\",\n",
    "    f\"--policy.repo_id={HF_USER}/TicTacToe-smolVLA-all\",\n",
    "    \"--batch_size=64\",\n",
    "    \"--steps=20_000\"\n",
    "    # \"--dataset.episodes=[0,1,2,3,4,5,6,7,8,9]\"\n",
    "]\n",
    "\n",
    "# Execute the command and show output in real-time\n",
    "process = subprocess.Popen(cmd, stdout=subprocess.PIPE, stderr=subprocess.STDOUT, text=True)\n",
    "for line in process.stdout:\n",
    "    print(line, end='')\n",
    "process.wait()"
   ]
  },
  {
   "cell_type": "code",
   "execution_count": null,
   "id": "c7775de9-778b-429e-8908-198398044e1c",
   "metadata": {},
   "outputs": [],
   "source": [
    "# Login to hugging face\n",
    "!huggingface-cli login"
   ]
  },
  {
   "cell_type": "code",
   "execution_count": null,
   "id": "6dc9f04a-ece0-4b10-88a4-2cc8d28bd98f",
   "metadata": {},
   "outputs": [],
   "source": [
    "# Upload\n",
    "!huggingface-cli upload ${HF_USER}/il_sim_test0 \\\n",
    "  /content/lerobot/outputs/train/il_sim_test0/checkpoints/last/pretrained_model"
   ]
  },
  {
   "cell_type": "code",
   "execution_count": null,
   "id": "2afe7f96-825d-4a16-af6a-9f95ea1fe0af",
   "metadata": {},
   "outputs": [],
   "source": []
  }
 ],
 "metadata": {
  "kernelspec": {
   "display_name": "Python 3 (ipykernel)",
   "language": "python",
   "name": "python3"
  },
  "language_info": {
   "codemirror_mode": {
    "name": "ipython",
    "version": 3
   },
   "file_extension": ".py",
   "mimetype": "text/x-python",
   "name": "python",
   "nbconvert_exporter": "python",
   "pygments_lexer": "ipython3",
   "version": "3.10.13"
  }
 },
 "nbformat": 4,
 "nbformat_minor": 5
}
